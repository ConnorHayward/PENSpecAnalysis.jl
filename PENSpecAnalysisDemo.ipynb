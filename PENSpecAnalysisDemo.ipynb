{
 "cells": [
  {
   "cell_type": "code",
   "execution_count": null,
   "metadata": {},
   "outputs": [],
   "source": [
    "using Glob\n",
    "using SIUnits, SIUnits.ShortUnits\n",
    "using Plots\n",
    "using PENSpecAnalysis\n",
    "using DataStructures\n",
    "using Measurements\n",
    "using StatsBase\n",
    "pyplot()"
   ]
  },
  {
   "cell_type": "code",
   "execution_count": null,
   "metadata": {},
   "outputs": [],
   "source": [
    "\n",
    "# prepare_dir(directory,pattern within directory(optional))\n",
    "dict = prepare_dir(\"2018-04-04_32dc01bc_lt_new_spectrometer_calibration/Reproducibility/50505/\",\"side-1\")\n",
    "\n",
    "plt = plot(bg=:white)\n",
    "for key in keys(dict)\n",
    "        #read and prepare raw data, returns as histogram for easy analysis.\n",
    "        h = read_spec_data(dict[key])\n",
    "        plot!(plt, h,label=\"$key\",st=:step)\n",
    "        \n",
    "        #\n",
    "        peak = peakfit(h)[1]\n",
    "        println(\"Peak wavelength for $key = $peak nm\")\n",
    "end\n",
    "plt"
   ]
  }
 ],
 "metadata": {
  "kernelspec": {
   "display_name": "Julia 0.6.2",
   "language": "julia",
   "name": "julia-0.6"
  },
  "language_info": {
   "file_extension": ".jl",
   "mimetype": "application/julia",
   "name": "julia",
   "version": "0.6.2"
  }
 },
 "nbformat": 4,
 "nbformat_minor": 2
}
